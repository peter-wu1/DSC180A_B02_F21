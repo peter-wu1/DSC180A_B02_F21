{
 "cells": [
  {
   "cell_type": "code",
   "execution_count": 1,
   "id": "5f4d7779",
   "metadata": {},
   "outputs": [],
   "source": [
    "import os\n",
    "import pandas as pd\n",
    "import datetime\n",
    "from datetime import date\n",
    "import time\n",
    "import numpy as np"
   ]
  },
  {
   "cell_type": "markdown",
   "id": "c577932b",
   "metadata": {},
   "source": []
  },
  {
   "cell_type": "markdown",
   "id": "241ff08c",
   "metadata": {},
   "source": [
    "## Download [this query on Quarry](https://quarry.wmcloud.org/query/59058) of 50k random users (with userpages who registered before 2020-10)"
   ]
  },
  {
   "cell_type": "code",
   "execution_count": 2,
   "id": "28410db3",
   "metadata": {},
   "outputs": [
    {
     "name": "stdout",
     "output_type": "stream",
     "text": [
      "--2021-10-05 21:58:50--  https://quarry.wmcloud.org/run/585296/output/0/tsv\n",
      "Resolving quarry.wmcloud.org (quarry.wmcloud.org)... 172.16.0.164\n",
      "Connecting to quarry.wmcloud.org (quarry.wmcloud.org)|172.16.0.164|:443... connected.\n",
      "HTTP request sent, awaiting response... 200 OK\n",
      "Length: unspecified [text/tab-separated-values]\n",
      "Saving to: ‘user_reg_with_userpages.tsv’\n",
      "\n",
      "user_reg_with_userp     [  <=>               ]   1.71M  4.47MB/s    in 0.4s    \n",
      "\n",
      "2021-10-05 21:58:51 (4.47 MB/s) - ‘user_reg_with_userpages.tsv’ saved [1795476]\n",
      "\n"
     ]
    }
   ],
   "source": [
    "!wget https://quarry.wmcloud.org/run/585296/output/0/tsv -O user_reg_with_userpages.tsv"
   ]
  },
  {
   "cell_type": "code",
   "execution_count": 3,
   "id": "879a635a",
   "metadata": {},
   "outputs": [
    {
     "name": "stdout",
     "output_type": "stream",
     "text": [
      "50001 user_reg_with_userpages.tsv\r\n"
     ]
    }
   ],
   "source": [
    "!wc -l user_reg_with_userpages.tsv"
   ]
  },
  {
   "cell_type": "code",
   "execution_count": 4,
   "id": "b82a95d5",
   "metadata": {},
   "outputs": [
    {
     "name": "stdout",
     "output_type": "stream",
     "text": [
      "\r\n",
      "\r\n",
      "\r\n",
      "\r\n",
      "\r\n",
      "\r\n",
      "\r\n",
      "\r\n",
      "\r\n",
      "\r\n"
     ]
    }
   ],
   "source": [
    "!head user_reg_with_userpages.tsv"
   ]
  },
  {
   "cell_type": "code",
   "execution_count": 5,
   "id": "3896fb1a",
   "metadata": {},
   "outputs": [
    {
     "data": {
      "text/html": [
       "<div>\n",
       "<style scoped>\n",
       "    .dataframe tbody tr th:only-of-type {\n",
       "        vertical-align: middle;\n",
       "    }\n",
       "\n",
       "    .dataframe tbody tr th {\n",
       "        vertical-align: top;\n",
       "    }\n",
       "\n",
       "    .dataframe thead th {\n",
       "        text-align: right;\n",
       "    }\n",
       "</style>\n",
       "<table border=\"1\" class=\"dataframe\">\n",
       "  <thead>\n",
       "    <tr style=\"text-align: right;\">\n",
       "      <th></th>\n",
       "      <th>user_name</th>\n",
       "      <th>user_id</th>\n",
       "      <th>user_registration</th>\n",
       "    </tr>\n",
       "  </thead>\n",
       "  <tbody>\n",
       "    <tr>\n",
       "      <th>0</th>\n",
       "      <td>KingRiach</td>\n",
       "      <td>27773404</td>\n",
       "      <td>20160307220704</td>\n",
       "    </tr>\n",
       "    <tr>\n",
       "      <th>1</th>\n",
       "      <td>Ctambo</td>\n",
       "      <td>6492102</td>\n",
       "      <td>20080221002533</td>\n",
       "    </tr>\n",
       "    <tr>\n",
       "      <th>2</th>\n",
       "      <td>Awisely</td>\n",
       "      <td>13820329</td>\n",
       "      <td>20110118230413</td>\n",
       "    </tr>\n",
       "    <tr>\n",
       "      <th>3</th>\n",
       "      <td>Shankhamita</td>\n",
       "      <td>16009368</td>\n",
       "      <td>20120101171414</td>\n",
       "    </tr>\n",
       "    <tr>\n",
       "      <th>4</th>\n",
       "      <td>Abhinayaprithivi</td>\n",
       "      <td>28005397</td>\n",
       "      <td>20160404204752</td>\n",
       "    </tr>\n",
       "    <tr>\n",
       "      <th>...</th>\n",
       "      <td>...</td>\n",
       "      <td>...</td>\n",
       "      <td>...</td>\n",
       "    </tr>\n",
       "    <tr>\n",
       "      <th>49995</th>\n",
       "      <td>Bandgeek1732</td>\n",
       "      <td>16336675</td>\n",
       "      <td>20120221035543</td>\n",
       "    </tr>\n",
       "    <tr>\n",
       "      <th>49996</th>\n",
       "      <td>Werqty12376</td>\n",
       "      <td>18321203</td>\n",
       "      <td>20130125002347</td>\n",
       "    </tr>\n",
       "    <tr>\n",
       "      <th>49997</th>\n",
       "      <td>Chrisboote</td>\n",
       "      <td>482416</td>\n",
       "      <td>20051007102059</td>\n",
       "    </tr>\n",
       "    <tr>\n",
       "      <th>49998</th>\n",
       "      <td>Mariibog</td>\n",
       "      <td>24622706</td>\n",
       "      <td>20150402172429</td>\n",
       "    </tr>\n",
       "    <tr>\n",
       "      <th>49999</th>\n",
       "      <td>Världsmedborgare</td>\n",
       "      <td>36198238</td>\n",
       "      <td>20190327173906</td>\n",
       "    </tr>\n",
       "  </tbody>\n",
       "</table>\n",
       "<p>50000 rows × 3 columns</p>\n",
       "</div>"
      ],
      "text/plain": [
       "              user_name   user_id  user_registration\n",
       "0             KingRiach  27773404     20160307220704\n",
       "1                Ctambo   6492102     20080221002533\n",
       "2               Awisely  13820329     20110118230413\n",
       "3           Shankhamita  16009368     20120101171414\n",
       "4      Abhinayaprithivi  28005397     20160404204752\n",
       "...                 ...       ...                ...\n",
       "49995      Bandgeek1732  16336675     20120221035543\n",
       "49996       Werqty12376  18321203     20130125002347\n",
       "49997        Chrisboote    482416     20051007102059\n",
       "49998          Mariibog  24622706     20150402172429\n",
       "49999  Världsmedborgare  36198238     20190327173906\n",
       "\n",
       "[50000 rows x 3 columns]"
      ]
     },
     "execution_count": 5,
     "metadata": {},
     "output_type": "execute_result"
    }
   ],
   "source": [
    "editors_df = pd.read_csv('user_reg_with_userpages.tsv', delimiter='\\t', infer_datetime_format=True)\n",
    "editors_df"
   ]
  },
  {
   "cell_type": "markdown",
   "id": "be92abe1",
   "metadata": {},
   "source": [
    "### Function for calculating future dates"
   ]
  },
  {
   "cell_type": "code",
   "execution_count": 6,
   "id": "ac51ef1d",
   "metadata": {},
   "outputs": [],
   "source": [
    "def add_days(d, days):\n",
    "    \"\"\"Return a date that's `years` years after the date (or datetime)\n",
    "    object `d`. Return the same calendar date (month and day) in the\n",
    "    destination year, if it exists, otherwise use the following day\n",
    "    (thus changing February 29 to March 1).\n",
    "    \"\"\"\n",
    "    return d + datetime.timedelta(days=days)\n"
   ]
  },
  {
   "cell_type": "code",
   "execution_count": 7,
   "id": "6d878fd3",
   "metadata": {},
   "outputs": [
    {
     "data": {
      "text/plain": [
       "datetime.datetime(2011, 1, 1, 0, 0)"
      ]
     },
     "execution_count": 7,
     "metadata": {},
     "output_type": "execute_result"
    }
   ],
   "source": [
    "add_days(datetime.datetime(2010,1,1),365)"
   ]
  },
  {
   "cell_type": "code",
   "execution_count": 8,
   "id": "f073aa42",
   "metadata": {},
   "outputs": [
    {
     "data": {
      "text/plain": [
       "datetime.datetime(2010, 12, 31, 0, 0)"
      ]
     },
     "execution_count": 8,
     "metadata": {},
     "output_type": "execute_result"
    }
   ],
   "source": [
    "add_days(datetime.datetime(2010,1,1),364)"
   ]
  },
  {
   "cell_type": "markdown",
   "id": "64d8c04c",
   "metadata": {},
   "source": [
    "## Building one SQL query for each user's edits"
   ]
  },
  {
   "cell_type": "code",
   "execution_count": 9,
   "id": "074fce24",
   "metadata": {},
   "outputs": [],
   "source": [
    "query_list = []\n",
    "for index, row in editors_df.iterrows():\n",
    "    user_registration = row['user_registration']\n",
    "    reg_dt = datetime.datetime.strptime(str(user_registration), \"%Y%m%d%H%M%S\")\n",
    "\n",
    "    start_date = add_days(reg_dt, 182)\n",
    "    end_date = add_days(reg_dt, 365)\n",
    "    reg_year_mo = reg_dt.strftime(\"%Y-%m\")\n",
    "    \n",
    "\n",
    "    query = \"select \" + str(row['user_id']) + \" as user_id, \" + str(row['user_registration']) + \" as user_registration,\"\n",
    "    query += \"'\" + str(reg_year_mo) + \"' as year_mo, \"\n",
    "    query += \"\"\"count(rev_id) as survival_1yr from ( select rev_id from revision_userindex where rev_actor = \"\"\" + str(row['user_id'])\n",
    "    query += \" and rev_timestamp BETWEEN \" + start_date.strftime(\"%Y%m%d%H%M%S\") \n",
    "    query += \" and \" + end_date.strftime(\"%Y%m%d%H%M%S\") + \" limit 1 ) as s\"\n",
    "\n",
    "    query_list.append(query)"
   ]
  },
  {
   "cell_type": "code",
   "execution_count": 10,
   "id": "3b26ab77",
   "metadata": {},
   "outputs": [
    {
     "data": {
      "text/plain": [
       "[\"select 27773404 as user_id, 20160307220704 as user_registration,'2016-03' as year_mo, count(rev_id) as survival_1yr from ( select rev_id from revision_userindex where rev_actor = 27773404 and rev_timestamp BETWEEN 20160905220704 and 20170307220704 limit 1 ) as s\",\n",
       " \"select 6492102 as user_id, 20080221002533 as user_registration,'2008-02' as year_mo, count(rev_id) as survival_1yr from ( select rev_id from revision_userindex where rev_actor = 6492102 and rev_timestamp BETWEEN 20080821002533 and 20090220002533 limit 1 ) as s\",\n",
       " \"select 13820329 as user_id, 20110118230413 as user_registration,'2011-01' as year_mo, count(rev_id) as survival_1yr from ( select rev_id from revision_userindex where rev_actor = 13820329 and rev_timestamp BETWEEN 20110719230413 and 20120118230413 limit 1 ) as s\",\n",
       " \"select 16009368 as user_id, 20120101171414 as user_registration,'2012-01' as year_mo, count(rev_id) as survival_1yr from ( select rev_id from revision_userindex where rev_actor = 16009368 and rev_timestamp BETWEEN 20120701171414 and 20121231171414 limit 1 ) as s\",\n",
       " \"select 28005397 as user_id, 20160404204752 as user_registration,'2016-04' as year_mo, count(rev_id) as survival_1yr from ( select rev_id from revision_userindex where rev_actor = 28005397 and rev_timestamp BETWEEN 20161003204752 and 20170404204752 limit 1 ) as s\"]"
      ]
     },
     "execution_count": 10,
     "metadata": {},
     "output_type": "execute_result"
    }
   ],
   "source": [
    "query_list[0:5]"
   ]
  },
  {
   "cell_type": "markdown",
   "id": "4f92e879",
   "metadata": {},
   "source": [
    "## Querying the database with a manually-written query"
   ]
  },
  {
   "cell_type": "code",
   "execution_count": 11,
   "id": "f860901a",
   "metadata": {},
   "outputs": [
    {
     "name": "stdout",
     "output_type": "stream",
     "text": [
      "((13065449, 20100913082123, '2010-09', 0),)\n"
     ]
    }
   ],
   "source": [
    "import pymysql\n",
    "\n",
    "# Host urls are like {wiki}.{analytics,web}.db.svc.wikimedia.cloud\n",
    "host = \"enwiki.web.db.svc.wikimedia.cloud\"\n",
    "credentials = \".my.cnf\"\n",
    "\n",
    "query = \"\"\"SELECT\n",
    "            13065449 as user_id,\n",
    "            20100913082123 as user_registration,\n",
    "            '2010-09' as year_mo,\n",
    "            count(rev_id) as survival_1yr\n",
    "            \n",
    "            FROM (\n",
    "                    SELECT rev_id \n",
    "                    FROM revision_userindex\n",
    "                    WHERE rev_actor = 13065449\n",
    "                        AND rev_timestamp BETWEEN 20110913082123 and 20120913082123\n",
    "                        LIMIT 1 \n",
    "                  ) as s;\"\"\"\n",
    "\n",
    "#query = \"show tables\"\n",
    "\n",
    "#query = \"describe revision_userindex\"\n",
    "\n",
    "#query = \"select * from user limit 1\"\n",
    "\n",
    "conn = pymysql.connect(\n",
    "    host=host,\n",
    "    read_default_file=credentials,\n",
    "    database=\"enwiki_p\"\n",
    ")\n",
    "\n",
    "with conn.cursor() as cur:\n",
    "        cur.execute(query)\n",
    "        data = cur.fetchall()\n",
    "        print(data)\n",
    "        \n",
    "conn.close()\n",
    "\n",
    "\n"
   ]
  },
  {
   "cell_type": "markdown",
   "id": "b4b9cfaf",
   "metadata": {},
   "source": [
    "## Test to query 5 editors from the live SQL database"
   ]
  },
  {
   "cell_type": "code",
   "execution_count": 12,
   "id": "6d50802d",
   "metadata": {},
   "outputs": [
    {
     "name": "stdout",
     "output_type": "stream",
     "text": [
      "Registration date 2016-03\n",
      "1 year survival 0\n",
      "Registration date 2008-02\n",
      "1 year survival 0\n",
      "Registration date 2011-01\n",
      "1 year survival 0\n",
      "Registration date 2012-01\n",
      "1 year survival 0\n",
      "Registration date 2016-04\n",
      "1 year survival 0\n"
     ]
    }
   ],
   "source": [
    "conn = pymysql.connect(\n",
    "    host=host,\n",
    "    read_default_file=credentials,\n",
    "    database=\"enwiki_p\"\n",
    ")\n",
    "\n",
    "data_list = []\n",
    "\n",
    "for e_query in query_list[0:5]:\n",
    "    with conn.cursor() as cur:\n",
    "        cur.execute(e_query)\n",
    "        data = cur.fetchall()\n",
    "        for row in data:\n",
    "            print(\"Registration date\", row[2])\n",
    "            print(\"1 year survival\", row[3])\n",
    "            #print(str(row[0], encoding='utf-8'))\n",
    "            result = {}\n",
    "            result['reg_date'] = row[2]\n",
    "            result['survival'] = row[3]\n",
    "            \n",
    "            data_list.append(result)\n",
    "conn.close()"
   ]
  },
  {
   "cell_type": "code",
   "execution_count": 13,
   "id": "70f8d5d1",
   "metadata": {},
   "outputs": [
    {
     "data": {
      "text/html": [
       "<div>\n",
       "<style scoped>\n",
       "    .dataframe tbody tr th:only-of-type {\n",
       "        vertical-align: middle;\n",
       "    }\n",
       "\n",
       "    .dataframe tbody tr th {\n",
       "        vertical-align: top;\n",
       "    }\n",
       "\n",
       "    .dataframe thead th {\n",
       "        text-align: right;\n",
       "    }\n",
       "</style>\n",
       "<table border=\"1\" class=\"dataframe\">\n",
       "  <thead>\n",
       "    <tr style=\"text-align: right;\">\n",
       "      <th></th>\n",
       "      <th>reg_date</th>\n",
       "      <th>survival</th>\n",
       "    </tr>\n",
       "  </thead>\n",
       "  <tbody>\n",
       "    <tr>\n",
       "      <th>0</th>\n",
       "      <td>2016-03</td>\n",
       "      <td>0</td>\n",
       "    </tr>\n",
       "    <tr>\n",
       "      <th>1</th>\n",
       "      <td>2008-02</td>\n",
       "      <td>0</td>\n",
       "    </tr>\n",
       "    <tr>\n",
       "      <th>2</th>\n",
       "      <td>2011-01</td>\n",
       "      <td>0</td>\n",
       "    </tr>\n",
       "    <tr>\n",
       "      <th>3</th>\n",
       "      <td>2012-01</td>\n",
       "      <td>0</td>\n",
       "    </tr>\n",
       "    <tr>\n",
       "      <th>4</th>\n",
       "      <td>2016-04</td>\n",
       "      <td>0</td>\n",
       "    </tr>\n",
       "  </tbody>\n",
       "</table>\n",
       "</div>"
      ],
      "text/plain": [
       "  reg_date  survival\n",
       "0  2016-03         0\n",
       "1  2008-02         0\n",
       "2  2011-01         0\n",
       "3  2012-01         0\n",
       "4  2016-04         0"
      ]
     },
     "execution_count": 13,
     "metadata": {},
     "output_type": "execute_result"
    }
   ],
   "source": [
    "pd.DataFrame(data_list)"
   ]
  },
  {
   "cell_type": "markdown",
   "id": "01d55343",
   "metadata": {},
   "source": [
    "### Query all 50,000 editor histories"
   ]
  },
  {
   "cell_type": "code",
   "execution_count": 14,
   "id": "0e456f67",
   "metadata": {},
   "outputs": [
    {
     "name": "stdout",
     "output_type": "stream",
     "text": [
      "1000\n",
      "2000\n",
      "3000\n",
      "4000\n",
      "5000\n",
      "6000\n",
      "7000\n",
      "8000\n",
      "9000\n",
      "10000\n",
      "11000\n",
      "12000\n",
      "13000\n",
      "14000\n",
      "15000\n",
      "16000\n",
      "17000\n",
      "18000\n",
      "19000\n",
      "20000\n",
      "21000\n",
      "22000\n",
      "23000\n",
      "24000\n",
      "25000\n",
      "26000\n",
      "27000\n",
      "28000\n",
      "29000\n",
      "30000\n",
      "31000\n",
      "32000\n",
      "33000\n",
      "34000\n",
      "35000\n",
      "36000\n",
      "37000\n",
      "38000\n",
      "39000\n",
      "40000\n",
      "41000\n",
      "42000\n",
      "43000\n",
      "44000\n",
      "45000\n",
      "46000\n",
      "47000\n",
      "48000\n",
      "49000\n",
      "50000\n"
     ]
    }
   ],
   "source": [
    "conn = pymysql.connect(\n",
    "    host=host,\n",
    "    read_default_file=credentials,\n",
    "    database=\"enwiki_p\"\n",
    ")\n",
    "\n",
    "data_list = []\n",
    "\n",
    "for e_query in query_list:\n",
    "    with conn.cursor() as cur:\n",
    "        cur.execute(e_query)\n",
    "        data = cur.fetchall()\n",
    "        for row in data:\n",
    "            #print(\"Registration date\", row[2])\n",
    "            #print(\"1 year survival\", row[3])\n",
    "            #print(str(row[0], encoding='utf-8'))\n",
    "            result = {}\n",
    "            result['reg_date'] = row[2]\n",
    "            result['survival'] = row[3]\n",
    "            \n",
    "            data_list.append(result)\n",
    "            \n",
    "            if(len(data_list) % 1000 == 0):\n",
    "                print(len(data_list))\n",
    "            \n",
    "conn.close()"
   ]
  },
  {
   "cell_type": "code",
   "execution_count": 15,
   "id": "3af84524",
   "metadata": {},
   "outputs": [
    {
     "data": {
      "text/html": [
       "<div>\n",
       "<style scoped>\n",
       "    .dataframe tbody tr th:only-of-type {\n",
       "        vertical-align: middle;\n",
       "    }\n",
       "\n",
       "    .dataframe tbody tr th {\n",
       "        vertical-align: top;\n",
       "    }\n",
       "\n",
       "    .dataframe thead th {\n",
       "        text-align: right;\n",
       "    }\n",
       "</style>\n",
       "<table border=\"1\" class=\"dataframe\">\n",
       "  <thead>\n",
       "    <tr style=\"text-align: right;\">\n",
       "      <th></th>\n",
       "      <th>reg_date</th>\n",
       "      <th>survival</th>\n",
       "    </tr>\n",
       "  </thead>\n",
       "  <tbody>\n",
       "    <tr>\n",
       "      <th>0</th>\n",
       "      <td>2016-03</td>\n",
       "      <td>0</td>\n",
       "    </tr>\n",
       "    <tr>\n",
       "      <th>1</th>\n",
       "      <td>2008-02</td>\n",
       "      <td>0</td>\n",
       "    </tr>\n",
       "    <tr>\n",
       "      <th>2</th>\n",
       "      <td>2011-01</td>\n",
       "      <td>0</td>\n",
       "    </tr>\n",
       "    <tr>\n",
       "      <th>3</th>\n",
       "      <td>2012-01</td>\n",
       "      <td>0</td>\n",
       "    </tr>\n",
       "    <tr>\n",
       "      <th>4</th>\n",
       "      <td>2016-04</td>\n",
       "      <td>0</td>\n",
       "    </tr>\n",
       "    <tr>\n",
       "      <th>...</th>\n",
       "      <td>...</td>\n",
       "      <td>...</td>\n",
       "    </tr>\n",
       "    <tr>\n",
       "      <th>49995</th>\n",
       "      <td>2012-02</td>\n",
       "      <td>0</td>\n",
       "    </tr>\n",
       "    <tr>\n",
       "      <th>49996</th>\n",
       "      <td>2013-01</td>\n",
       "      <td>0</td>\n",
       "    </tr>\n",
       "    <tr>\n",
       "      <th>49997</th>\n",
       "      <td>2005-10</td>\n",
       "      <td>0</td>\n",
       "    </tr>\n",
       "    <tr>\n",
       "      <th>49998</th>\n",
       "      <td>2015-04</td>\n",
       "      <td>0</td>\n",
       "    </tr>\n",
       "    <tr>\n",
       "      <th>49999</th>\n",
       "      <td>2019-03</td>\n",
       "      <td>0</td>\n",
       "    </tr>\n",
       "  </tbody>\n",
       "</table>\n",
       "<p>50000 rows × 2 columns</p>\n",
       "</div>"
      ],
      "text/plain": [
       "      reg_date  survival\n",
       "0      2016-03         0\n",
       "1      2008-02         0\n",
       "2      2011-01         0\n",
       "3      2012-01         0\n",
       "4      2016-04         0\n",
       "...        ...       ...\n",
       "49995  2012-02         0\n",
       "49996  2013-01         0\n",
       "49997  2005-10         0\n",
       "49998  2015-04         0\n",
       "49999  2019-03         0\n",
       "\n",
       "[50000 rows x 2 columns]"
      ]
     },
     "execution_count": 15,
     "metadata": {},
     "output_type": "execute_result"
    }
   ],
   "source": [
    "retention_df = pd.DataFrame(data_list)\n",
    "len(retention_df)\n",
    "retention_df"
   ]
  },
  {
   "cell_type": "markdown",
   "id": "68ce3c80",
   "metadata": {},
   "source": [
    "### Plot results"
   ]
  },
  {
   "cell_type": "code",
   "execution_count": 16,
   "id": "3d6c0e3b",
   "metadata": {},
   "outputs": [
    {
     "data": {
      "image/png": "[encoded data removed]",
      "text/plain": [
       "<Figure size 864x576 with 1 Axes>"
      ]
     },
     "metadata": {
      "needs_background": "light"
     },
     "output_type": "display_data"
    }
   ],
   "source": [
    "retention_group = retention_df.groupby([\"reg_date\"])\n",
    "monthly_averages = retention_group.aggregate({\"survival\":np.mean})\n",
    "#monthly_averages = monthly_averages.query(\"reg_date >= '2006-01'\")\n",
    "fig = monthly_averages.plot(figsize=(12,8))\n"
   ]
  },
  {
   "cell_type": "code",
   "execution_count": null,
   "id": "c8e18f92",
   "metadata": {},
   "outputs": [],
   "source": []
  },
  {
   "cell_type": "markdown",
   "id": "ee8c2c0a",
   "metadata": {},
   "source": [
    "## Assignment 2\n",
    "\n",
    "This does not check to see if the editor actually made an edit to an article, only that they registered. Expand to filter out every user who did not make an edit in their first six months. You will need to either keep the first query to the revision table for every user and add a second query for every user to filter out those who did not make an edit, or you can try to modify the first query to revision table in the database to do return a result that will let you measure survival and do the filtering. Remember that you must join with the page table to filter by namespaces (articles are namespace 0). Here is an example query for getting a user's edits: https://quarry.wmcloud.org/query/59069\n"
   ]
  },
  {
   "cell_type": "code",
   "execution_count": null,
   "id": "2b22fb68",
   "metadata": {},
   "outputs": [],
   "source": []
  }
 ],
 "metadata": {
  "kernelspec": {
   "display_name": "Python 3 (ipykernel)",
   "language": "python",
   "name": "python3"
  },
  "language_info": {
   "codemirror_mode": {
    "name": "ipython",
    "version": 3
   },
   "file_extension": ".py",
   "mimetype": "text/x-python",
   "name": "python",
   "nbconvert_exporter": "python",
   "pygments_lexer": "ipython3",
   "version": "3.8.10"
  }
 },
 "nbformat": 4,
 "nbformat_minor": 5
}
